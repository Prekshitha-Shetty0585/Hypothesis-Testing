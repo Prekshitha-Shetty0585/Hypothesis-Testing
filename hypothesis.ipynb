{
 "cells": [
  {
   "cell_type": "code",
   "execution_count": null,
   "id": "d106261c-b72f-48ab-a179-e87049779186",
   "metadata": {},
   "outputs": [],
   "source": [
    "#Objective:\n",
    "#To investigate the restaurant owners' claim about the increase in weekly operating costs using hypothesis testing."
   ]
  },
  {
   "cell_type": "code",
   "execution_count": null,
   "id": "595ef969-918a-4d64-9517-c49273f9fa64",
   "metadata": {},
   "outputs": [],
   "source": [
    "#Assignment Tasks:\n",
    "#1. State the Hypotheses statement:"
   ]
  },
  {
   "cell_type": "markdown",
   "id": "efcf17e9-f480-4dfd-982e-8e792a1f6963",
   "metadata": {},
   "source": [
    "-->Null hypothesis(H0)\n",
    "The mean weekly operating cost according to the cost model is accurate. That is, the observed weekly operating costs are not significantly higher than the theoretical costs.\n",
    "μ=$1,000+5*600=$4,000"
   ]
  },
  {
   "cell_type": "markdown",
   "id": "37048a97-3e0c-475e-a31a-361d02fe1372",
   "metadata": {},
   "source": [
    "-->Alternate hypothesis(H1)\n",
    "The mean weekly operating cost is significantly higher than the theoretical cost model.\n",
    "μ>$4,000."
   ]
  },
  {
   "cell_type": "code",
   "execution_count": 1,
   "id": "b6db5ad6-4d34-42ca-a704-224c6c666ab7",
   "metadata": {},
   "outputs": [],
   "source": [
    "### 2. Calculate the Test Statistic"
   ]
  },
  {
   "cell_type": "code",
   "execution_count": 8,
   "id": "4afdda7d-a9fe-4770-adb2-f4bee20ae00e",
   "metadata": {},
   "outputs": [
    {
     "name": "stdout",
     "output_type": "stream",
     "text": [
      "Test Statistic (t): -38.0\n"
     ]
    }
   ],
   "source": [
    "import math\n",
    "# Given data\n",
    "sample_mean = 3050\n",
    "theoretical_mean = 1000 + 5 * 600\n",
    "sigma = 5 * 25 #standard deviation\n",
    "n = 25\n",
    "# Calculate the test statistic\n",
    "t_stat = (sample_mean - theoretical_mean) / (sigma / math.sqrt(n)) \n",
    "# Print the test statistic\n",
    "print(\"Test Statistic (t):\", t_stat)"
   ]
  },
  {
   "cell_type": "code",
   "execution_count": 3,
   "id": "a59e4494-3cce-4e40-9d12-ea305c289e93",
   "metadata": {},
   "outputs": [],
   "source": [
    "###3. Determine the Critical Value:"
   ]
  },
  {
   "cell_type": "code",
   "execution_count": 5,
   "id": "865bef11-8f00-44d4-9bb9-1d699fe786fb",
   "metadata": {},
   "outputs": [
    {
     "name": "stdout",
     "output_type": "stream",
     "text": [
      "Critical Value (Z): 1.6448536269514722\n"
     ]
    }
   ],
   "source": [
    "from scipy.stats import norm\n",
    "# Significance level\n",
    "alpha = 0.05\n",
    "# Determine the critical value for a one-tailed test\n",
    "critical_value = norm.ppf(1 - alpha)\n",
    "# Print the critical value\n",
    "print(\"Critical Value (Z):\", critical_value)"
   ]
  },
  {
   "cell_type": "code",
   "execution_count": 6,
   "id": "ded9ec4c-3cc3-4a66-8df8-29aa73698cd4",
   "metadata": {},
   "outputs": [],
   "source": [
    "### 4. Make a Decision"
   ]
  },
  {
   "cell_type": "code",
   "execution_count": 7,
   "id": "ba740a33-f3de-4dfa-9809-8fb866e39140",
   "metadata": {},
   "outputs": [
    {
     "name": "stdout",
     "output_type": "stream",
     "text": [
      "Decision: Fail to reject the null hypothesis (no significant increase in weekly operating costs).\n"
     ]
    }
   ],
   "source": [
    "# Decision\n",
    "if t_stat > critical_value:\n",
    "    decision = \"Reject the null hypothesis (weekly operating costs are significantly higher).\"\n",
    "else:\n",
    "    decision = \"Fail to reject the null hypothesis (no significant increase in weekly operating costs).\"\n",
    "# Print the decision\n",
    "print(\"Decision:\", decision)"
   ]
  },
  {
   "cell_type": "code",
   "execution_count": 9,
   "id": "3462ece3-6b19-4f61-8739-54ce716ed5ff",
   "metadata": {},
   "outputs": [],
   "source": [
    "#conclusion"
   ]
  },
  {
   "cell_type": "code",
   "execution_count": 11,
   "id": "36dd1f07-388d-445c-9448-6830f025fa2b",
   "metadata": {},
   "outputs": [
    {
     "name": "stdout",
     "output_type": "stream",
     "text": [
      "Test Statistic (t): -38.0\n",
      "Critical Value (Z): 1.6448536269514722\n",
      "Decision: Fail to reject the null hypothesis (no significant increase in weekly operating costs).\n"
     ]
    }
   ],
   "source": [
    "import math\n",
    "from scipy.stats import norm\n",
    "# Given data\n",
    "sample_mean = 3050\n",
    "theoretical_mean = 1000 + 5 * 600\n",
    "sigma = 5 * 25\n",
    "n = 25\n",
    "# Hypotheses\n",
    "# Null Hypothesis (H0): The mean weekly operating cost according to the cost model is accurate (μ = $4,000).\n",
    "# Alternative Hypothesis (H1): The mean weekly operating cost is significantly higher than the theoretical cost model (μ > $4,000).\n",
    "# Calculate the test statistic\n",
    "t_stat = (sample_mean - theoretical_mean) / (sigma / math.sqrt(n)) #hypothesis test formula\n",
    "# Print the test statistic\n",
    "print(\"Test Statistic (t):\", t_stat)\n",
    "# Significance level\n",
    "alpha = 0.05\n",
    "# Determine the critical value for a one-tailed test\n",
    "critical_value = norm.ppf(1 - alpha)\n",
    "# Print the critical value\n",
    "print(\"Critical Value (Z):\", critical_value)\n",
    "# Decision\n",
    "if t_stat > critical_value:\n",
    "    decision = \"Reject the null hypothesis (weekly operating costs are significantly higher).\"\n",
    "else:\n",
    "    decision = \"Fail to reject the null hypothesis (no significant increase in weekly operating costs).\"\n",
    "# Print the decision\n",
    "print(\"Decision:\", decision)"
   ]
  },
  {
   "cell_type": "code",
   "execution_count": 12,
   "id": "73adcbe0-19b4-4500-979a-979e95d553c7",
   "metadata": {},
   "outputs": [],
   "source": [
    "# Chi-square teat"
   ]
  },
  {
   "cell_type": "markdown",
   "id": "db0601d9-47aa-40f0-be31-1909fa247839",
   "metadata": {},
   "source": [
    "#### Objective:\n",
    "To use the Chi-Square test for independence to determine if there's a significant association between the type of smart home device purchased (Smart Thermostats vs. Smart Lights) and the customer satisfaction level.\n",
    "2. Compute the Chi-Square Statistic:\n",
    "3. Determine the Critical Value:\n",
    "Using the significance level (alpha) of 0.05 and the degrees of freedom (which is the number of categories minus 1)\n",
    "4. Make a Decision:\n",
    "Compare the Chi-Square statistic with the critical value to decide whether to reject the null hypothesis.\n"
   ]
  },
  {
   "cell_type": "code",
   "execution_count": 13,
   "id": "76f0096e-c600-460c-9b9d-fccefbc3c54d",
   "metadata": {},
   "outputs": [],
   "source": [
    "#### Assignment Tasks:\n",
    "###1. State the Hypotheses:"
   ]
  },
  {
   "cell_type": "markdown",
   "id": "aa878501-7f1e-4f97-92fd-cdaec2ccc59a",
   "metadata": {},
   "source": [
    "## 1. State the Hypotheses\n",
    "Null Hypothesis (𝐻0): There is no significant association between the type of smart home device purchased and the customer satisfaction level. In other words, the type of device and customer satisfaction are independent.\n",
    "\n",
    "Alternative Hypothesis (𝐻1): There is a significant association between the type of smart home device purchased and the customer satisfaction level. In other words, the type of device and customer satisfaction are not independent."
   ]
  },
  {
   "cell_type": "code",
   "execution_count": 14,
   "id": "902018b0-0261-4e1a-8de1-97f12437390f",
   "metadata": {},
   "outputs": [],
   "source": [
    "## 2. Compute the Chi-Square Statistic"
   ]
  },
  {
   "cell_type": "code",
   "execution_count": 16,
   "id": "e3485166-4bf9-4721-87f8-07b3bcb5ba3b",
   "metadata": {},
   "outputs": [
    {
     "data": {
      "text/plain": [
       "(5.638227513227513,\n",
       " 0.22784371130697179,\n",
       " 4,\n",
       " array([[ 48.,  72.],\n",
       "        [ 72., 108.],\n",
       "        [ 60.,  90.],\n",
       "        [ 32.,  48.],\n",
       "        [ 28.,  42.]]))"
      ]
     },
     "execution_count": 16,
     "metadata": {},
     "output_type": "execute_result"
    }
   ],
   "source": [
    "import numpy as np\n",
    "import pandas as pd\n",
    "from scipy.stats import chi2_contingency #####to test independent variable\n",
    "# Observed frequencies\n",
    "observed = np.array([\n",
    "    [50, 70],\n",
    "    [80, 100],\n",
    "    [60, 90],\n",
    "    [30, 50],\n",
    "    [20, 50]\n",
    "])\n",
    "# Convert observed frequencies to a DataFrame\n",
    "observed_df = pd.DataFrame(observed, columns=['Smart Thermostat', 'Smart Light'], index=['Very Satisfied',\n",
    "                                                                                         'Satisfied', 'Neutral', 'Unsatisfied', 'Very Unsatisfied'])\n",
    "# Perform Chi-Square test\n",
    "chi2_stat, p_val, dof, expected = chi2_contingency(observed)\n",
    "chi2_stat, p_val, dof, expected"
   ]
  },
  {
   "cell_type": "code",
   "execution_count": 17,
   "id": "1abe189e-a28a-40cd-a069-e82fb7f3282c",
   "metadata": {},
   "outputs": [],
   "source": [
    "## 3. Determine the Critical Value"
   ]
  },
  {
   "cell_type": "code",
   "execution_count": 18,
   "id": "fb5cbf11-1342-417a-b87e-0a186b348139",
   "metadata": {},
   "outputs": [
    {
     "name": "stdout",
     "output_type": "stream",
     "text": [
      "Critical Value: 9.487729036781154\n"
     ]
    }
   ],
   "source": [
    "from scipy.stats import chi2\n",
    "# Significance level\n",
    "alpha = 0.05\n",
    "# Degrees of freedom\n",
    "dof = (observed.shape[0] - 1) * (observed.shape[1] - 1)\n",
    "# Critical value\n",
    "critical_value = chi2.ppf(1 - alpha, dof)\n",
    "# Print critical value\n",
    "print(\"Critical Value:\", critical_value)"
   ]
  },
  {
   "cell_type": "code",
   "execution_count": 19,
   "id": "ae19aa44-0b10-4b74-9b3a-236054fff4db",
   "metadata": {},
   "outputs": [],
   "source": [
    "## 4. Make a Decision"
   ]
  },
  {
   "cell_type": "code",
   "execution_count": 20,
   "id": "6d33a9ec-ccf7-473e-a107-8575a7bc09fd",
   "metadata": {},
   "outputs": [
    {
     "name": "stdout",
     "output_type": "stream",
     "text": [
      "Decision: Fail to reject the null hypothesis (no significant association).\n"
     ]
    }
   ],
   "source": [
    "# Decision\n",
    "if chi2_stat > critical_value:\n",
    "    decision = \"Reject the null hypothesis (significant association).\"\n",
    "else:\n",
    "    decision = \"Fail to reject the null hypothesis (no significant association).\"\n",
    "# Print decision\n",
    "print(\"Decision:\", decision)"
   ]
  },
  {
   "cell_type": "code",
   "execution_count": 21,
   "id": "02f83e27-4d61-4434-ba21-7139fdd9de98",
   "metadata": {},
   "outputs": [
    {
     "data": {
      "text/plain": [
       "{'Chi-Square Statistic': 5.638227513227513,\n",
       " 'Degrees of Freedom': 4,\n",
       " 'Critical Value': 9.487729036781154,\n",
       " 'Decision': 'Fail to reject the null hypothesis (no significant association).'}"
      ]
     },
     "execution_count": 21,
     "metadata": {},
     "output_type": "execute_result"
    }
   ],
   "source": [
    "import numpy as np\n",
    "import pandas as pd\n",
    "from scipy.stats import chi2_contingency, chi2\n",
    "# Observed frequencies\n",
    "observed = np.array([\n",
    "    [50, 70],\n",
    "    [80, 100],\n",
    "    [60, 90],\n",
    "    [30, 50],\n",
    "    [20, 50]\n",
    "])\n",
    "# Convert observed frequencies to a DataFrame\n",
    "observed_df = pd.DataFrame(observed, columns=['Smart Thermostat', 'Smart Light'], index=['Very Satisfied',\n",
    "                                                                                         'Satisfied', 'Neutral', 'Unsatisfied', 'Very Unsatisfied'])\n",
    "# Perform Chi-Square test\n",
    "chi2_stat, p_val, dof, expected = chi2_contingency(observed)\n",
    "# Significance level\n",
    "alpha = 0.05\n",
    "# Critical value\n",
    "critical_value = chi2.ppf(1 - alpha, dof)\n",
    "# Decision\n",
    "if chi2_stat > critical_value:\n",
    "    decision = \"Reject the null hypothesis (significant association).\"\n",
    "else:\n",
    "    decision = \"Fail to reject the null hypothesis (no significant association).\"\n",
    "# Results\n",
    "results = {\n",
    "    \"Chi-Square Statistic\": chi2_stat,\n",
    "    \"Degrees of Freedom\": dof,\n",
    "    \"Critical Value\": critical_value,\n",
    "    \"Decision\": decision\n",
    "}\n",
    "results"
   ]
  },
  {
   "cell_type": "markdown",
   "id": "2e27cfe2-61d9-4577-8f37-7a07de6fea7a",
   "metadata": {},
   "source": [
    "## Conclusion: \n",
    "There is no significant association between the type of smart home device purchased and the customer satisfaction level."
   ]
  }
 ],
 "metadata": {
  "kernelspec": {
   "display_name": "Python 3 (ipykernel)",
   "language": "python",
   "name": "python3"
  },
  "language_info": {
   "codemirror_mode": {
    "name": "ipython",
    "version": 3
   },
   "file_extension": ".py",
   "mimetype": "text/x-python",
   "name": "python",
   "nbconvert_exporter": "python",
   "pygments_lexer": "ipython3",
   "version": "3.11.7"
  }
 },
 "nbformat": 4,
 "nbformat_minor": 5
}
